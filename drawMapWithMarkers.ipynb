{
 "cells": [
  {
   "cell_type": "code",
   "execution_count": 1,
   "metadata": {},
   "outputs": [],
   "source": [
    "import os\n",
    "import glob\n",
    "import folium\n",
    "import webbrowser\n",
    "import pandas as pd\n",
    "from PIL import Image, ImageDraw"
   ]
  },
  {
   "cell_type": "code",
   "execution_count": 2,
   "metadata": {},
   "outputs": [],
   "source": [
    "#Draw Map\n",
    "map = folium.Map()\n",
    "# location=[ , ], zoom_start=10, tiles=''"
   ]
  },
  {
   "cell_type": "code",
   "execution_count": null,
   "metadata": {},
   "outputs": [],
   "source": [
    "#locations and datas from url\n",
    "url = '' \n",
    "file = pd.read_csv(url)"
   ]
  },
  {
   "cell_type": "code",
   "execution_count": null,
   "metadata": {},
   "outputs": [],
   "source": [
    "# clear the coordinates\n",
    "def cleanCoordinate(coord):\n",
    "    try:\n",
    "        coord = ''.join(char for i, char in enumerate(coord) if char.isdigit() or (char == '.' and i == coord.find('.')))\n",
    "        return float(coord)\n",
    "    except ValueError:\n",
    "        print(f\"Invalid coordinate value: {coord}\")\n",
    "        return None\n",
    "\n",
    "# extract latitude and longitude from the 'location' column\n",
    "file['Latitude'] = file['location'].apply(lambda x: cleanCoordinate(x.split(',')[0].strip()))\n",
    "file['Longitude'] = file['location'].apply(lambda x: cleanCoordinate(x.split(',')[1].strip()))\n",
    "\n",
    "# filter out invalid coordinates\n",
    "validData = file.dropna(subset=['Latitude', 'Longitude'])\n",
    "validData = validData[(validData['Latitude'] >= -90) & (validData['Latitude'] <= 90) & (validData['Longitude'] >= -180) & (validData['Longitude'] <= 180)]"
   ]
  },
  {
   "cell_type": "code",
   "execution_count": null,
   "metadata": {},
   "outputs": [],
   "source": [
    "# function to validate and correct color codes if your csv file has Color row\n",
    "def correctColorCode(color):\n",
    "    if pd.isna(color):\n",
    "        return '#000000'\n",
    "    color = str(color).strip()\n",
    "    if len(color) == 7 and color[0] == '#':\n",
    "        return color\n",
    "    if len(color) == 6 and color[0] != '#':\n",
    "        return '#' + color\n",
    "    if len(color) > 7:\n",
    "        return color[:7] if color[0] == '#' else '#' + color[:6]\n",
    "    return '#000000'"
   ]
  },
  {
   "cell_type": "code",
   "execution_count": null,
   "metadata": {},
   "outputs": [],
   "source": [
    "# default icon path in case the logo is invalid\n",
    "defaultIconPath = 'defaultIcon.png'\n",
    "defaultCursorSize = (64, 64)\n",
    "\n",
    "# create a default icon if it does not exist\n",
    "if not os.path.exists(defaultIconPath):\n",
    "    default_icon = Image.new(\"RGBA\", defaultCursorSize, (255, 255, 255, 0))\n",
    "    draw = ImageDraw.Draw(default_icon)\n",
    "    draw.ellipse([0, 0, defaultCursorSize[0] - 1, defaultCursorSize[1] - 1], fill='#000000')\n",
    "    default_icon.save(defaultIconPath)"
   ]
  },
  {
   "cell_type": "code",
   "execution_count": null,
   "metadata": {},
   "outputs": [],
   "source": [
    "# remove previously saved custom icons\n",
    "for iconFile in glob.glob('combinedIcon_*.png'):\n",
    "    os.remove(iconFile)\n",
    "\n",
    "# list of logo file paths from the directory\n",
    "logoDirectory = ''\n",
    "logoFiles = [file for file in os.listdir(logoDirectory) if file.endswith('.png')]\n",
    "\n",
    "# create a dictionary that maps numbers (from file names) to logo paths \n",
    "# the logo file names should be '1.png', '2.png' ...\n",
    "logoPaths = {\n",
    "    int(os.path.splitext(file)[0]): os.path.join(logoDirectory, file)\n",
    "    for file in logoFiles\n",
    "}"
   ]
  },
  {
   "cell_type": "code",
   "execution_count": null,
   "metadata": {},
   "outputs": [],
   "source": [
    "# Add markers to the map\n",
    "for i, row in validData.iterrows():\n",
    "    cursorSize = (64, 64)\n",
    "    cursorColor = correctColorCode(row.get('Color', '#000000'))\n",
    "    cursor = Image.new(\"RGBA\", cursorSize, (255, 255, 255, 0))\n",
    "    draw = ImageDraw.Draw(cursor)\n",
    "    draw.ellipse([0, 0, cursorSize[0] - 1, cursorSize[1] - 1], fill=cursorColor)\n",
    "    \n",
    "    no = row.get('logoNo', None) #if your csv file has logoNo (logo number code) row for each column\n",
    "    logoPath = logoPaths.get(int(no), None)\n",
    "    logo = None\n",
    "    if logoPath and os.path.exists(logoPath):\n",
    "        logo = Image.open(logoPath).convert(\"RGBA\")\n",
    "    \n",
    "    if logo:\n",
    "        logo_size = (48, 48)\n",
    "        logo = logo.resize(logo_size)\n",
    "        logo_position = ((cursorSize[0] - logo_size[0]) // 2, (cursorSize[1] - logo_size[1]) // 2)\n",
    "        cursor.paste(logo, logo_position, logo)\n",
    "    else:\n",
    "        cursor = Image.new(\"RGBA\", cursorSize, (255, 255, 255, 0))\n",
    "        draw = ImageDraw.Draw(cursor)\n",
    "        draw.ellipse([0, 0, cursorSize[0] - 1, cursorSize[1] - 1], fill=cursorColor)\n",
    "    \n",
    "    # save the combined icon\n",
    "    combinedIconPath = f'combinedIcon_{i}.png'\n",
    "    cursor.save(combinedIconPath)\n",
    "\n",
    "    # create a custom icon\n",
    "    custom_icon = folium.CustomIcon(\n",
    "        icon_image=combinedIconPath,\n",
    "        icon_size=(32, 32)\n",
    "    )\n",
    "    \n",
    "    # add marker to the map with custom icon\n",
    "    position = (row['Latitude'], row['Longitude'])\n",
    "    folium.Marker(position, popup=row.get('Name', 'No Name'), icon=custom_icon).add_to(map)"
   ]
  },
  {
   "cell_type": "code",
   "execution_count": null,
   "metadata": {},
   "outputs": [],
   "source": [
    "# save and open\n",
    "map.save('mapName.html')\n",
    "webbrowser.open('mapName.html')"
   ]
  }
 ],
 "metadata": {
  "kernelspec": {
   "display_name": "Python 3",
   "language": "python",
   "name": "python3"
  },
  "language_info": {
   "codemirror_mode": {
    "name": "ipython",
    "version": 3
   },
   "file_extension": ".py",
   "mimetype": "text/x-python",
   "name": "python",
   "nbconvert_exporter": "python",
   "pygments_lexer": "ipython3",
   "version": "3.11.9"
  }
 },
 "nbformat": 4,
 "nbformat_minor": 2
}
